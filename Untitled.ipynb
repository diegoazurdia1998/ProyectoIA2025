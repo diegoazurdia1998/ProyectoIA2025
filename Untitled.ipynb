{
 "cells": [
  {
   "cell_type": "markdown",
   "id": "6f905063-436f-4880-a2c2-b34edfafb225",
   "metadata": {},
   "source": [
    "# 📰 Clasificador de Noticias con Naive Bayes\n",
    "### Descripción:\n",
    "Este proyecto implementa un clasificador de noticias utilizando el algoritmo Naive Bayes Multinomial, diseñado para categorizar artículos de texto en 5 temas: business, entertainment, politics, sport y tech. El modelo aprende patrones de palabras desde un dataset de noticias de la BBC y predice la categoría de nuevos textos con alta precisión.\n",
    "\n",
    "# ⚙️ Funcionamiento\n",
    "### 1. Flujo del Programa\n",
    "#### Carga de Datos:\n",
    "    Lee los archivos de noticias desde la carpeta BBC News Summary/News Articles.\n",
    "    Cada artículo se etiqueta automáticamente según su subdirectorio (ej: /business/ → clase \"business\").\n",
    "\n",
    "#### Preprocesamiento:\n",
    "\n",
    "    Limpieza: Elimina caracteres especiales y convierte el texto a minúsculas.\n",
    "    Tokenización: Divide el texto en palabras individuales.\n",
    "    Filtrado: Remueve palabras con frecuencia menor a 3 (para reducir ruido).\n",
    "    \n",
    "#### Entrenamiento:\n",
    "\n",
    "    Calcula:\n",
    "    - Probabilidades a priori (P(clase)).\n",
    "    - Frecuencias de palabras por clase (P(palabra|clase)).\n",
    "    - Aplica suavizado Laplace para evitar probabilidades cero.\n",
    "\n",
    "#### Predicción:\n",
    "\n",
    "    Dado un nuevo texto, el modelo:\n",
    "    - Lo tokeniza y filtra.\n",
    "    - Calcula la probabilidad logarítmica para cada clase.\n",
    "    - Selecciona la clase con mayor probabilidad.\n",
    "\n",
    "#### Evaluación:\n",
    "\n",
    "    Genera un reporte con métricas: exactitud, precision, recall y *F1-score*."
   ]
  }
 ],
 "metadata": {
  "kernelspec": {
   "display_name": "Python 3 (ipykernel)",
   "language": "python",
   "name": "python3"
  },
  "language_info": {
   "codemirror_mode": {
    "name": "ipython",
    "version": 3
   },
   "file_extension": ".py",
   "mimetype": "text/x-python",
   "name": "python",
   "nbconvert_exporter": "python",
   "pygments_lexer": "ipython3",
   "version": "3.13.1"
  }
 },
 "nbformat": 4,
 "nbformat_minor": 5
}
